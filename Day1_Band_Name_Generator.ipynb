{
  "nbformat": 4,
  "nbformat_minor": 0,
  "metadata": {
    "colab": {
      "name": "Day1_BandNameGenerator",
      "provenance": [],
      "authorship_tag": "ABX9TyMb9f2uwK11y7MSQ/fZEr2K",
      "include_colab_link": true
    },
    "kernelspec": {
      "name": "python3",
      "display_name": "Python 3"
    },
    "language_info": {
      "name": "python"
    }
  },
  "cells": [
    {
      "cell_type": "markdown",
      "metadata": {
        "id": "view-in-github",
        "colab_type": "text"
      },
      "source": [
        "<a href=\"https://colab.research.google.com/github/nathaneckel/python_projects/blob/main/Day1_Band_Name_Generator.ipynb\" target=\"_parent\"><img src=\"https://colab.research.google.com/assets/colab-badge.svg\" alt=\"Open In Colab\"/></a>"
      ]
    },
    {
      "cell_type": "markdown",
      "source": [
        "This Band Generator program demonstrates how to create the following functions:\n",
        "\n",
        "- input fields (interactivity)\n",
        "- display the user input fields\n",
        "- combine the input fields\n",
        "- create a \"Band Name\" based on user inputs."
      ],
      "metadata": {
        "id": "TltsCpMSZPj5"
      }
    },
    {
      "cell_type": "code",
      "execution_count": null,
      "metadata": {
        "id": "6z5vg03ZWcnp"
      },
      "outputs": [],
      "source": [
        "#1. Create a greeting for your program.\n",
        "#2. Ask the user for the city that they grew up in.\n",
        "#3. Ask the user for the name of a pet.\n",
        "#4. Combine the name of their city and pet and show them their band name.\n",
        "#5. Make sure the input cursor shows on a new line, see the example at:\n",
        "#   https://replit.com/@appbrewery/band-name-generator-end"
      ]
    },
    {
      "cell_type": "code",
      "source": [
        "#1. Create a greeting for your program.\n",
        "print(\"Welcome to Band Generator!\")"
      ],
      "metadata": {
        "colab": {
          "base_uri": "https://localhost:8080/"
        },
        "id": "Wxq451dlWq_r",
        "outputId": "1f893f41-7647-4757-d84b-aa6c756c8993"
      },
      "execution_count": 2,
      "outputs": [
        {
          "output_type": "stream",
          "name": "stdout",
          "text": [
            "Welcome to Band Generator!\n"
          ]
        }
      ]
    },
    {
      "cell_type": "code",
      "source": [
        "#2. Ask the user for the city that they grew up in.\n",
        "city = input(\"What city did you grow up in?\\n\")"
      ],
      "metadata": {
        "colab": {
          "base_uri": "https://localhost:8080/"
        },
        "id": "nk1mhia8Wues",
        "outputId": "f62fdb0f-f64f-4e1e-cff1-4d7c92d57ce2"
      },
      "execution_count": 15,
      "outputs": [
        {
          "name": "stdout",
          "output_type": "stream",
          "text": [
            "What city did you grow up in?\n",
            "Danville\n"
          ]
        }
      ]
    },
    {
      "cell_type": "code",
      "source": [
        "#3. Ask the user for the name of a pet.\n",
        "pet = input(\"What is your pet's name?\\n\")"
      ],
      "metadata": {
        "colab": {
          "base_uri": "https://localhost:8080/"
        },
        "id": "dff1F7ROXNzC",
        "outputId": "80f3229a-5d52-47c3-ad2c-955bc70ac189"
      },
      "execution_count": 31,
      "outputs": [
        {
          "name": "stdout",
          "output_type": "stream",
          "text": [
            "What is your pet's name?\n",
            "Patch\n"
          ]
        }
      ]
    },
    {
      "cell_type": "code",
      "source": [
        "#4. Combine the name of their city and pet and show them their band name.\n",
        "\n",
        "print(\"Your band name could be: \" + city + \" \" + pet)\n",
        "#5. Make sure the input cursor shows on a new line, see the example at:\n",
        "#   https://replit.com/@appbrewery/band-name-generator-end"
      ],
      "metadata": {
        "colab": {
          "base_uri": "https://localhost:8080/"
        },
        "id": "IGahFDaZXS8O",
        "outputId": "70eb4719-7c65-454b-e827-e1b8aa689737"
      },
      "execution_count": 36,
      "outputs": [
        {
          "output_type": "stream",
          "name": "stdout",
          "text": [
            "Your band name could be: Danville Patch\n"
          ]
        }
      ]
    },
    {
      "cell_type": "code",
      "source": [
        ""
      ],
      "metadata": {
        "id": "uZS8Pa83Xd2o"
      },
      "execution_count": null,
      "outputs": []
    }
  ]
}