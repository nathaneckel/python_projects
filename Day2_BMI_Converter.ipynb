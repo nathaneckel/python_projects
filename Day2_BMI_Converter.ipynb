{
  "nbformat": 4,
  "nbformat_minor": 0,
  "metadata": {
    "colab": {
      "name": "Day2_BMI_Converter.ipynb",
      "provenance": [],
      "authorship_tag": "ABX9TyP1Sc8RnRSNjAfVM6CkWihC",
      "include_colab_link": true
    },
    "kernelspec": {
      "name": "python3",
      "display_name": "Python 3"
    },
    "language_info": {
      "name": "python"
    }
  },
  "cells": [
    {
      "cell_type": "markdown",
      "metadata": {
        "id": "view-in-github",
        "colab_type": "text"
      },
      "source": [
        "<a href=\"https://colab.research.google.com/github/nathaneckel/python_projects/blob/main/Day2_BMI_Converter.ipynb\" target=\"_parent\"><img src=\"https://colab.research.google.com/assets/colab-badge.svg\" alt=\"Open In Colab\"/></a>"
      ]
    },
    {
      "cell_type": "markdown",
      "source": [
        "For this project I created a Body Mass Index converter using inputs, casting strings as floats (decimal numbers) and ultimately as integers (whole numbers) using the BMI equation: Weight divided by Height squared."
      ],
      "metadata": {
        "id": "D1xM1E27xkLQ"
      }
    },
    {
      "cell_type": "code",
      "execution_count": 44,
      "metadata": {
        "colab": {
          "base_uri": "https://localhost:8080/"
        },
        "id": "zeGy7Tu9qqUI",
        "outputId": "1d13b677-e721-456f-8261-854e80285a42"
      },
      "outputs": [
        {
          "name": "stdout",
          "output_type": "stream",
          "text": [
            "enter your height in m: 1.8\n",
            "enter your weight in kg: 69\n"
          ]
        }
      ],
      "source": [
        "# 🚨 Don't change the code below 👇\n",
        "height = input(\"enter your height in m: \")\n",
        "weight = input(\"enter your weight in kg: \")\n",
        "# 🚨 Don't change the code above 👆\n",
        "\n",
        "# Check the data type of the inputs.\n",
        "# Try to use the exponent operator in your code.\n",
        "# Remember PEMDAS.\n",
        "# Remember to convert your result to a whole number (int). \n",
        "# Write your code below this line 👇\n"
      ]
    },
    {
      "cell_type": "code",
      "source": [
        "intW = int(weight)\n",
        "floatH = float(height)"
      ],
      "metadata": {
        "id": "1QeakMZ7rC7D"
      },
      "execution_count": 75,
      "outputs": []
    },
    {
      "cell_type": "code",
      "source": [
        "bmi = intW / floatH ** 2\n",
        "bmi_int = int(bmi)\n",
        "print(\"Your Body Mass Index / BMI is:\" , bmi_int)"
      ],
      "metadata": {
        "colab": {
          "base_uri": "https://localhost:8080/"
        },
        "id": "3CmFS53Ytbgy",
        "outputId": "9ecb8759-9873-4745-fba6-cf4d6026f92d"
      },
      "execution_count": 76,
      "outputs": [
        {
          "output_type": "stream",
          "name": "stdout",
          "text": [
            "Your Body Mass Index / BMI is: 21\n"
          ]
        }
      ]
    }
  ]
}